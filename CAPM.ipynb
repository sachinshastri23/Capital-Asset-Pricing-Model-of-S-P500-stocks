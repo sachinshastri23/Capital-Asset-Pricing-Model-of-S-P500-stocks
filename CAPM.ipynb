{
 "cells": [
  {
   "cell_type": "markdown",
   "metadata": {},
   "source": [
    "#                                     Capital Asset Pricing Model\n",
    "\n",
    "## Objectives:\n",
    "### 1. Calculate alpha & beta for each stock\n",
    "### 2. Calculate portfolio returns"
   ]
  },
  {
   "cell_type": "code",
   "execution_count": 1,
   "metadata": {
    "colab": {
     "base_uri": "https://localhost:8080/",
     "height": 87
    },
    "colab_type": "code",
    "executionInfo": {
     "elapsed": 498,
     "status": "ok",
     "timestamp": 1598746093978,
     "user": {
      "displayName": "Stemplicity",
      "photoUrl": "https://lh3.googleusercontent.com/a-/AOh14Gj2vCFt-bD5mPBhUWX0QA6xiBgoXQXtwUm2jgjaCg=s64",
      "userId": "10668071569687886186"
     },
     "user_tz": 240
    },
    "id": "TMxtZdEjRjoc",
    "outputId": "d94b2db6-ceeb-461d-c6e8-e9068cb5bd94"
   },
   "outputs": [],
   "source": [
    "import pandas as pd\n",
    "import seaborn as sns\n",
    "import plotly.express as px\n",
    "from copy import copy\n",
    "from scipy import stats\n",
    "import matplotlib.pyplot as plt\n",
    "import numpy as np\n",
    "import plotly.figure_factory as ff\n",
    "import plotly.graph_objects as go"
   ]
  },
  {
   "cell_type": "code",
   "execution_count": 3,
   "metadata": {
    "colab": {
     "base_uri": "https://localhost:8080/",
     "height": 415
    },
    "colab_type": "code",
    "executionInfo": {
     "elapsed": 2366,
     "status": "ok",
     "timestamp": 1598745719012,
     "user": {
      "displayName": "Stemplicity",
      "photoUrl": "https://lh3.googleusercontent.com/a-/AOh14Gj2vCFt-bD5mPBhUWX0QA6xiBgoXQXtwUm2jgjaCg=s64",
      "userId": "10668071569687886186"
     },
     "user_tz": 240
    },
    "id": "rjnkqEJzRjtC",
    "outputId": "5e1ba6b2-700f-4d71-f04d-db5bbc05d8d1"
   },
   "outputs": [
    {
     "data": {
      "text/html": [
       "<div>\n",
       "<style scoped>\n",
       "    .dataframe tbody tr th:only-of-type {\n",
       "        vertical-align: middle;\n",
       "    }\n",
       "\n",
       "    .dataframe tbody tr th {\n",
       "        vertical-align: top;\n",
       "    }\n",
       "\n",
       "    .dataframe thead th {\n",
       "        text-align: right;\n",
       "    }\n",
       "</style>\n",
       "<table border=\"1\" class=\"dataframe\">\n",
       "  <thead>\n",
       "    <tr style=\"text-align: right;\">\n",
       "      <th></th>\n",
       "      <th>Date</th>\n",
       "      <th>AAPL</th>\n",
       "      <th>BA</th>\n",
       "      <th>T</th>\n",
       "      <th>MGM</th>\n",
       "      <th>AMZN</th>\n",
       "      <th>IBM</th>\n",
       "      <th>TSLA</th>\n",
       "      <th>GOOG</th>\n",
       "      <th>sp500</th>\n",
       "    </tr>\n",
       "  </thead>\n",
       "  <tbody>\n",
       "    <tr>\n",
       "      <th>0</th>\n",
       "      <td>2012-01-12</td>\n",
       "      <td>60.198570</td>\n",
       "      <td>75.510002</td>\n",
       "      <td>30.120001</td>\n",
       "      <td>12.13</td>\n",
       "      <td>175.929993</td>\n",
       "      <td>180.550003</td>\n",
       "      <td>28.250000</td>\n",
       "      <td>313.644379</td>\n",
       "      <td>1295.500000</td>\n",
       "    </tr>\n",
       "    <tr>\n",
       "      <th>1</th>\n",
       "      <td>2012-01-13</td>\n",
       "      <td>59.972858</td>\n",
       "      <td>74.599998</td>\n",
       "      <td>30.070000</td>\n",
       "      <td>12.35</td>\n",
       "      <td>178.419998</td>\n",
       "      <td>179.160004</td>\n",
       "      <td>22.790001</td>\n",
       "      <td>311.328064</td>\n",
       "      <td>1289.089966</td>\n",
       "    </tr>\n",
       "    <tr>\n",
       "      <th>2</th>\n",
       "      <td>2012-01-17</td>\n",
       "      <td>60.671429</td>\n",
       "      <td>75.239998</td>\n",
       "      <td>30.250000</td>\n",
       "      <td>12.25</td>\n",
       "      <td>181.660004</td>\n",
       "      <td>180.000000</td>\n",
       "      <td>26.600000</td>\n",
       "      <td>313.116364</td>\n",
       "      <td>1293.670044</td>\n",
       "    </tr>\n",
       "    <tr>\n",
       "      <th>3</th>\n",
       "      <td>2012-01-18</td>\n",
       "      <td>61.301430</td>\n",
       "      <td>75.059998</td>\n",
       "      <td>30.330000</td>\n",
       "      <td>12.73</td>\n",
       "      <td>189.440002</td>\n",
       "      <td>181.070007</td>\n",
       "      <td>26.809999</td>\n",
       "      <td>315.273285</td>\n",
       "      <td>1308.040039</td>\n",
       "    </tr>\n",
       "    <tr>\n",
       "      <th>4</th>\n",
       "      <td>2012-01-19</td>\n",
       "      <td>61.107143</td>\n",
       "      <td>75.559998</td>\n",
       "      <td>30.420000</td>\n",
       "      <td>12.80</td>\n",
       "      <td>194.449997</td>\n",
       "      <td>180.520004</td>\n",
       "      <td>26.760000</td>\n",
       "      <td>318.590851</td>\n",
       "      <td>1314.500000</td>\n",
       "    </tr>\n",
       "  </tbody>\n",
       "</table>\n",
       "</div>"
      ],
      "text/plain": [
       "         Date       AAPL         BA          T    MGM        AMZN         IBM  \\\n",
       "0  2012-01-12  60.198570  75.510002  30.120001  12.13  175.929993  180.550003   \n",
       "1  2012-01-13  59.972858  74.599998  30.070000  12.35  178.419998  179.160004   \n",
       "2  2012-01-17  60.671429  75.239998  30.250000  12.25  181.660004  180.000000   \n",
       "3  2012-01-18  61.301430  75.059998  30.330000  12.73  189.440002  181.070007   \n",
       "4  2012-01-19  61.107143  75.559998  30.420000  12.80  194.449997  180.520004   \n",
       "\n",
       "        TSLA        GOOG        sp500  \n",
       "0  28.250000  313.644379  1295.500000  \n",
       "1  22.790001  311.328064  1289.089966  \n",
       "2  26.600000  313.116364  1293.670044  \n",
       "3  26.809999  315.273285  1308.040039  \n",
       "4  26.760000  318.590851  1314.500000  "
      ]
     },
     "execution_count": 3,
     "metadata": {},
     "output_type": "execute_result"
    }
   ],
   "source": [
    "stocks_df = pd.read_csv('D:\\MLR\\Part 2. Financial Analysis in Python\\stock.csv')\n",
    "stocks_df.head()"
   ]
  },
  {
   "cell_type": "code",
   "execution_count": 4,
   "metadata": {
    "colab": {
     "base_uri": "https://localhost:8080/",
     "height": 415
    },
    "colab_type": "code",
    "executionInfo": {
     "elapsed": 2358,
     "status": "ok",
     "timestamp": 1598745719014,
     "user": {
      "displayName": "Stemplicity",
      "photoUrl": "https://lh3.googleusercontent.com/a-/AOh14Gj2vCFt-bD5mPBhUWX0QA6xiBgoXQXtwUm2jgjaCg=s64",
      "userId": "10668071569687886186"
     },
     "user_tz": 240
    },
    "id": "O-iq0rQVRysa",
    "outputId": "a640c031-0201-44bf-98bf-387a53420e1f"
   },
   "outputs": [
    {
     "data": {
      "text/html": [
       "<div>\n",
       "<style scoped>\n",
       "    .dataframe tbody tr th:only-of-type {\n",
       "        vertical-align: middle;\n",
       "    }\n",
       "\n",
       "    .dataframe tbody tr th {\n",
       "        vertical-align: top;\n",
       "    }\n",
       "\n",
       "    .dataframe thead th {\n",
       "        text-align: right;\n",
       "    }\n",
       "</style>\n",
       "<table border=\"1\" class=\"dataframe\">\n",
       "  <thead>\n",
       "    <tr style=\"text-align: right;\">\n",
       "      <th></th>\n",
       "      <th>Date</th>\n",
       "      <th>AAPL</th>\n",
       "      <th>BA</th>\n",
       "      <th>T</th>\n",
       "      <th>MGM</th>\n",
       "      <th>AMZN</th>\n",
       "      <th>IBM</th>\n",
       "      <th>TSLA</th>\n",
       "      <th>GOOG</th>\n",
       "      <th>sp500</th>\n",
       "    </tr>\n",
       "  </thead>\n",
       "  <tbody>\n",
       "    <tr>\n",
       "      <th>0</th>\n",
       "      <td>2012-01-12</td>\n",
       "      <td>60.198570</td>\n",
       "      <td>75.510002</td>\n",
       "      <td>30.120001</td>\n",
       "      <td>12.13</td>\n",
       "      <td>175.929993</td>\n",
       "      <td>180.550003</td>\n",
       "      <td>28.250000</td>\n",
       "      <td>313.644379</td>\n",
       "      <td>1295.500000</td>\n",
       "    </tr>\n",
       "    <tr>\n",
       "      <th>1</th>\n",
       "      <td>2012-01-13</td>\n",
       "      <td>59.972858</td>\n",
       "      <td>74.599998</td>\n",
       "      <td>30.070000</td>\n",
       "      <td>12.35</td>\n",
       "      <td>178.419998</td>\n",
       "      <td>179.160004</td>\n",
       "      <td>22.790001</td>\n",
       "      <td>311.328064</td>\n",
       "      <td>1289.089966</td>\n",
       "    </tr>\n",
       "    <tr>\n",
       "      <th>2</th>\n",
       "      <td>2012-01-17</td>\n",
       "      <td>60.671429</td>\n",
       "      <td>75.239998</td>\n",
       "      <td>30.250000</td>\n",
       "      <td>12.25</td>\n",
       "      <td>181.660004</td>\n",
       "      <td>180.000000</td>\n",
       "      <td>26.600000</td>\n",
       "      <td>313.116364</td>\n",
       "      <td>1293.670044</td>\n",
       "    </tr>\n",
       "    <tr>\n",
       "      <th>3</th>\n",
       "      <td>2012-01-18</td>\n",
       "      <td>61.301430</td>\n",
       "      <td>75.059998</td>\n",
       "      <td>30.330000</td>\n",
       "      <td>12.73</td>\n",
       "      <td>189.440002</td>\n",
       "      <td>181.070007</td>\n",
       "      <td>26.809999</td>\n",
       "      <td>315.273285</td>\n",
       "      <td>1308.040039</td>\n",
       "    </tr>\n",
       "    <tr>\n",
       "      <th>4</th>\n",
       "      <td>2012-01-19</td>\n",
       "      <td>61.107143</td>\n",
       "      <td>75.559998</td>\n",
       "      <td>30.420000</td>\n",
       "      <td>12.80</td>\n",
       "      <td>194.449997</td>\n",
       "      <td>180.520004</td>\n",
       "      <td>26.760000</td>\n",
       "      <td>318.590851</td>\n",
       "      <td>1314.500000</td>\n",
       "    </tr>\n",
       "  </tbody>\n",
       "</table>\n",
       "</div>"
      ],
      "text/plain": [
       "         Date       AAPL         BA          T    MGM        AMZN         IBM  \\\n",
       "0  2012-01-12  60.198570  75.510002  30.120001  12.13  175.929993  180.550003   \n",
       "1  2012-01-13  59.972858  74.599998  30.070000  12.35  178.419998  179.160004   \n",
       "2  2012-01-17  60.671429  75.239998  30.250000  12.25  181.660004  180.000000   \n",
       "3  2012-01-18  61.301430  75.059998  30.330000  12.73  189.440002  181.070007   \n",
       "4  2012-01-19  61.107143  75.559998  30.420000  12.80  194.449997  180.520004   \n",
       "\n",
       "        TSLA        GOOG        sp500  \n",
       "0  28.250000  313.644379  1295.500000  \n",
       "1  22.790001  311.328064  1289.089966  \n",
       "2  26.600000  313.116364  1293.670044  \n",
       "3  26.809999  315.273285  1308.040039  \n",
       "4  26.760000  318.590851  1314.500000  "
      ]
     },
     "execution_count": 4,
     "metadata": {},
     "output_type": "execute_result"
    }
   ],
   "source": [
    "stocks_df = stocks_df.sort_values(by = ['Date'])\n",
    "stocks_df.head()"
   ]
  },
  {
   "cell_type": "code",
   "execution_count": 5,
   "metadata": {
    "colab": {},
    "colab_type": "code",
    "id": "329hiIB9SUN_"
   },
   "outputs": [],
   "source": [
    "# Function to normalize the prices based on the initial price\n",
    "def normalize(df):\n",
    "  x = df.copy()\n",
    "  for i in x.columns[1:]:\n",
    "    x[i] = x[i]/x[i][0]\n",
    "  return x"
   ]
  },
  {
   "cell_type": "markdown",
   "metadata": {
    "colab_type": "text",
    "id": "xFn-qwFhUIZk"
   },
   "source": [
    "## CALCULATING DAILY RETURNS"
   ]
  },
  {
   "cell_type": "code",
   "execution_count": 6,
   "metadata": {
    "colab": {},
    "colab_type": "code",
    "id": "RY-Ud9rLSUfs"
   },
   "outputs": [],
   "source": [
    "# Function to calculate the daily returns \n",
    "def daily_return(df):\n",
    "\n",
    "  df_daily_return = df.copy()\n",
    "  \n",
    "  # Loop through each stock\n",
    "  for i in df.columns[1:]:\n",
    "    \n",
    "    # Loop through each row belonging to the stock\n",
    "    for j in range(1, len(df)):\n",
    "      \n",
    "      # Calculate the percentage of change from the previous day\n",
    "      df_daily_return[i][j] = ((df[i][j]- df[i][j-1])/df[i][j-1]) * 100\n",
    "    \n",
    "    # set the value of first row to zero, as previous value is not available\n",
    "    df_daily_return[i][0] = 0\n",
    "  return df_daily_return"
   ]
  },
  {
   "cell_type": "code",
   "execution_count": 7,
   "metadata": {
    "colab": {
     "base_uri": "https://localhost:8080/",
     "height": 415
    },
    "colab_type": "code",
    "executionInfo": {
     "elapsed": 3099,
     "status": "ok",
     "timestamp": 1598747344213,
     "user": {
      "displayName": "Stemplicity",
      "photoUrl": "https://lh3.googleusercontent.com/a-/AOh14Gj2vCFt-bD5mPBhUWX0QA6xiBgoXQXtwUm2jgjaCg=s64",
      "userId": "10668071569687886186"
     },
     "user_tz": 240
    },
    "id": "SRVAKDHKUO4_",
    "outputId": "b9235959-58e4-4d69-927a-dfaf1b358792"
   },
   "outputs": [
    {
     "data": {
      "text/html": [
       "<div>\n",
       "<style scoped>\n",
       "    .dataframe tbody tr th:only-of-type {\n",
       "        vertical-align: middle;\n",
       "    }\n",
       "\n",
       "    .dataframe tbody tr th {\n",
       "        vertical-align: top;\n",
       "    }\n",
       "\n",
       "    .dataframe thead th {\n",
       "        text-align: right;\n",
       "    }\n",
       "</style>\n",
       "<table border=\"1\" class=\"dataframe\">\n",
       "  <thead>\n",
       "    <tr style=\"text-align: right;\">\n",
       "      <th></th>\n",
       "      <th>Date</th>\n",
       "      <th>AAPL</th>\n",
       "      <th>BA</th>\n",
       "      <th>T</th>\n",
       "      <th>MGM</th>\n",
       "      <th>AMZN</th>\n",
       "      <th>IBM</th>\n",
       "      <th>TSLA</th>\n",
       "      <th>GOOG</th>\n",
       "      <th>sp500</th>\n",
       "    </tr>\n",
       "  </thead>\n",
       "  <tbody>\n",
       "    <tr>\n",
       "      <th>0</th>\n",
       "      <td>2012-01-12</td>\n",
       "      <td>0.000000</td>\n",
       "      <td>0.000000</td>\n",
       "      <td>0.000000</td>\n",
       "      <td>0.000000</td>\n",
       "      <td>0.000000</td>\n",
       "      <td>0.000000</td>\n",
       "      <td>0.000000</td>\n",
       "      <td>0.000000</td>\n",
       "      <td>0.000000</td>\n",
       "    </tr>\n",
       "    <tr>\n",
       "      <th>1</th>\n",
       "      <td>2012-01-13</td>\n",
       "      <td>-0.374946</td>\n",
       "      <td>-1.205144</td>\n",
       "      <td>-0.166006</td>\n",
       "      <td>1.813685</td>\n",
       "      <td>1.415339</td>\n",
       "      <td>-0.769869</td>\n",
       "      <td>-19.327430</td>\n",
       "      <td>-0.738516</td>\n",
       "      <td>-0.494792</td>\n",
       "    </tr>\n",
       "    <tr>\n",
       "      <th>2</th>\n",
       "      <td>2012-01-17</td>\n",
       "      <td>1.164812</td>\n",
       "      <td>0.857909</td>\n",
       "      <td>0.598603</td>\n",
       "      <td>-0.809717</td>\n",
       "      <td>1.815943</td>\n",
       "      <td>0.468852</td>\n",
       "      <td>16.717854</td>\n",
       "      <td>0.574410</td>\n",
       "      <td>0.355295</td>\n",
       "    </tr>\n",
       "    <tr>\n",
       "      <th>3</th>\n",
       "      <td>2012-01-18</td>\n",
       "      <td>1.038382</td>\n",
       "      <td>-0.239234</td>\n",
       "      <td>0.264463</td>\n",
       "      <td>3.918367</td>\n",
       "      <td>4.282725</td>\n",
       "      <td>0.594448</td>\n",
       "      <td>0.789470</td>\n",
       "      <td>0.688856</td>\n",
       "      <td>1.110793</td>\n",
       "    </tr>\n",
       "    <tr>\n",
       "      <th>4</th>\n",
       "      <td>2012-01-19</td>\n",
       "      <td>-0.316937</td>\n",
       "      <td>0.666134</td>\n",
       "      <td>0.296736</td>\n",
       "      <td>0.549882</td>\n",
       "      <td>2.644634</td>\n",
       "      <td>-0.303752</td>\n",
       "      <td>-0.186494</td>\n",
       "      <td>1.052283</td>\n",
       "      <td>0.493866</td>\n",
       "    </tr>\n",
       "    <tr>\n",
       "      <th>...</th>\n",
       "      <td>...</td>\n",
       "      <td>...</td>\n",
       "      <td>...</td>\n",
       "      <td>...</td>\n",
       "      <td>...</td>\n",
       "      <td>...</td>\n",
       "      <td>...</td>\n",
       "      <td>...</td>\n",
       "      <td>...</td>\n",
       "      <td>...</td>\n",
       "    </tr>\n",
       "    <tr>\n",
       "      <th>2154</th>\n",
       "      <td>2020-08-05</td>\n",
       "      <td>0.362467</td>\n",
       "      <td>5.579446</td>\n",
       "      <td>-0.533156</td>\n",
       "      <td>0.000000</td>\n",
       "      <td>2.109065</td>\n",
       "      <td>-0.309917</td>\n",
       "      <td>-0.133153</td>\n",
       "      <td>0.589774</td>\n",
       "      <td>0.642974</td>\n",
       "    </tr>\n",
       "    <tr>\n",
       "      <th>2155</th>\n",
       "      <td>2020-08-06</td>\n",
       "      <td>3.488923</td>\n",
       "      <td>-1.193483</td>\n",
       "      <td>-0.033501</td>\n",
       "      <td>10.406699</td>\n",
       "      <td>0.623082</td>\n",
       "      <td>0.534082</td>\n",
       "      <td>0.307062</td>\n",
       "      <td>1.797626</td>\n",
       "      <td>0.642770</td>\n",
       "    </tr>\n",
       "    <tr>\n",
       "      <th>2156</th>\n",
       "      <td>2020-08-07</td>\n",
       "      <td>-2.449458</td>\n",
       "      <td>-1.265966</td>\n",
       "      <td>0.603217</td>\n",
       "      <td>3.087768</td>\n",
       "      <td>-1.784187</td>\n",
       "      <td>-0.919762</td>\n",
       "      <td>-2.475194</td>\n",
       "      <td>-0.373974</td>\n",
       "      <td>0.063303</td>\n",
       "    </tr>\n",
       "    <tr>\n",
       "      <th>2157</th>\n",
       "      <td>2020-08-10</td>\n",
       "      <td>1.453480</td>\n",
       "      <td>5.522880</td>\n",
       "      <td>0.599604</td>\n",
       "      <td>13.767729</td>\n",
       "      <td>-0.609323</td>\n",
       "      <td>1.720552</td>\n",
       "      <td>-2.350092</td>\n",
       "      <td>0.107728</td>\n",
       "      <td>0.274222</td>\n",
       "    </tr>\n",
       "    <tr>\n",
       "      <th>2158</th>\n",
       "      <td>2020-08-11</td>\n",
       "      <td>-2.973987</td>\n",
       "      <td>0.401316</td>\n",
       "      <td>0.000000</td>\n",
       "      <td>-0.692841</td>\n",
       "      <td>-2.143792</td>\n",
       "      <td>-0.283220</td>\n",
       "      <td>-3.114399</td>\n",
       "      <td>-1.054744</td>\n",
       "      <td>-0.796913</td>\n",
       "    </tr>\n",
       "  </tbody>\n",
       "</table>\n",
       "<p>2159 rows × 10 columns</p>\n",
       "</div>"
      ],
      "text/plain": [
       "            Date      AAPL        BA         T        MGM      AMZN       IBM  \\\n",
       "0     2012-01-12  0.000000  0.000000  0.000000   0.000000  0.000000  0.000000   \n",
       "1     2012-01-13 -0.374946 -1.205144 -0.166006   1.813685  1.415339 -0.769869   \n",
       "2     2012-01-17  1.164812  0.857909  0.598603  -0.809717  1.815943  0.468852   \n",
       "3     2012-01-18  1.038382 -0.239234  0.264463   3.918367  4.282725  0.594448   \n",
       "4     2012-01-19 -0.316937  0.666134  0.296736   0.549882  2.644634 -0.303752   \n",
       "...          ...       ...       ...       ...        ...       ...       ...   \n",
       "2154  2020-08-05  0.362467  5.579446 -0.533156   0.000000  2.109065 -0.309917   \n",
       "2155  2020-08-06  3.488923 -1.193483 -0.033501  10.406699  0.623082  0.534082   \n",
       "2156  2020-08-07 -2.449458 -1.265966  0.603217   3.087768 -1.784187 -0.919762   \n",
       "2157  2020-08-10  1.453480  5.522880  0.599604  13.767729 -0.609323  1.720552   \n",
       "2158  2020-08-11 -2.973987  0.401316  0.000000  -0.692841 -2.143792 -0.283220   \n",
       "\n",
       "           TSLA      GOOG     sp500  \n",
       "0      0.000000  0.000000  0.000000  \n",
       "1    -19.327430 -0.738516 -0.494792  \n",
       "2     16.717854  0.574410  0.355295  \n",
       "3      0.789470  0.688856  1.110793  \n",
       "4     -0.186494  1.052283  0.493866  \n",
       "...         ...       ...       ...  \n",
       "2154  -0.133153  0.589774  0.642974  \n",
       "2155   0.307062  1.797626  0.642770  \n",
       "2156  -2.475194 -0.373974  0.063303  \n",
       "2157  -2.350092  0.107728  0.274222  \n",
       "2158  -3.114399 -1.054744 -0.796913  \n",
       "\n",
       "[2159 rows x 10 columns]"
      ]
     },
     "execution_count": 7,
     "metadata": {},
     "output_type": "execute_result"
    }
   ],
   "source": [
    "stocks_daily_return = daily_return(stocks_df)\n",
    "stocks_daily_return"
   ]
  },
  {
   "cell_type": "markdown",
   "metadata": {
    "colab_type": "text",
    "id": "CF3D8GlUp6W0"
   },
   "source": [
    "## CALCULATING BETA FOR A SINGLE STOCK"
   ]
  },
  {
   "cell_type": "code",
   "execution_count": 8,
   "metadata": {
    "colab": {
     "base_uri": "https://localhost:8080/",
     "height": 225
    },
    "colab_type": "code",
    "executionInfo": {
     "elapsed": 1133,
     "status": "ok",
     "timestamp": 1598746198836,
     "user": {
      "displayName": "Stemplicity",
      "photoUrl": "https://lh3.googleusercontent.com/a-/AOh14Gj2vCFt-bD5mPBhUWX0QA6xiBgoXQXtwUm2jgjaCg=s64",
      "userId": "10668071569687886186"
     },
     "user_tz": 240
    },
    "id": "mOU9h77xrQP2",
    "outputId": "c55a814e-c0ca-4e6d-93b3-364fa6677e07"
   },
   "outputs": [
    {
     "data": {
      "text/plain": [
       "0       0.000000\n",
       "1      -0.374946\n",
       "2       1.164812\n",
       "3       1.038382\n",
       "4      -0.316937\n",
       "          ...   \n",
       "2154    0.362467\n",
       "2155    3.488923\n",
       "2156   -2.449458\n",
       "2157    1.453480\n",
       "2158   -2.973987\n",
       "Name: AAPL, Length: 2159, dtype: float64"
      ]
     },
     "execution_count": 8,
     "metadata": {},
     "output_type": "execute_result"
    }
   ],
   "source": [
    "stocks_daily_return['AAPL']"
   ]
  },
  {
   "cell_type": "code",
   "execution_count": 9,
   "metadata": {
    "colab": {
     "base_uri": "https://localhost:8080/",
     "height": 225
    },
    "colab_type": "code",
    "executionInfo": {
     "elapsed": 651,
     "status": "ok",
     "timestamp": 1598746206674,
     "user": {
      "displayName": "Stemplicity",
      "photoUrl": "https://lh3.googleusercontent.com/a-/AOh14Gj2vCFt-bD5mPBhUWX0QA6xiBgoXQXtwUm2jgjaCg=s64",
      "userId": "10668071569687886186"
     },
     "user_tz": 240
    },
    "id": "rUL6HpbQq20e",
    "outputId": "dc7ac97b-e923-40ac-9af3-52332bc9222b"
   },
   "outputs": [
    {
     "data": {
      "text/plain": [
       "0       0.000000\n",
       "1      -0.494792\n",
       "2       0.355295\n",
       "3       1.110793\n",
       "4       0.493866\n",
       "          ...   \n",
       "2154    0.642974\n",
       "2155    0.642770\n",
       "2156    0.063303\n",
       "2157    0.274222\n",
       "2158   -0.796913\n",
       "Name: sp500, Length: 2159, dtype: float64"
      ]
     },
     "execution_count": 9,
     "metadata": {},
     "output_type": "execute_result"
    }
   ],
   "source": [
    "stocks_daily_return['sp500']"
   ]
  },
  {
   "cell_type": "code",
   "execution_count": null,
   "metadata": {
    "colab": {
     "base_uri": "https://localhost:8080/",
     "height": 297
    },
    "colab_type": "code",
    "executionInfo": {
     "elapsed": 1192,
     "status": "ok",
     "timestamp": 1598746465039,
     "user": {
      "displayName": "Stemplicity",
      "photoUrl": "https://lh3.googleusercontent.com/a-/AOh14Gj2vCFt-bD5mPBhUWX0QA6xiBgoXQXtwUm2jgjaCg=s64",
      "userId": "10668071569687886186"
     },
     "user_tz": 240
    },
    "id": "h82k_tNZqhaj",
    "outputId": "f4ebcc70-aafb-477e-ca7b-8a4b2d6ed8eb"
   },
   "outputs": [
    {
     "data": {
      "text/plain": [
       "<matplotlib.axes._subplots.AxesSubplot at 0x7f71b417cda0>"
      ]
     },
     "execution_count": 58,
     "metadata": {
      "tags": []
     },
     "output_type": "execute_result"
    },
    {
     "data": {
      "image/png": "[encoded data removed]",
      "text/plain": [
       "<Figure size 432x288 with 1 Axes>"
      ]
     },
     "metadata": {
      "needs_background": "light",
      "tags": []
     },
     "output_type": "display_data"
    }
   ],
   "source": [
    "# plotting a scatter plot between the selected stock and the S&P500 (Market)\n",
    "stocks_daily_return.plot(kind = 'scatter', x = 'sp500', y = 'AAPL')"
   ]
  },
  {
   "cell_type": "code",
   "execution_count": 10,
   "metadata": {
    "colab": {
     "base_uri": "https://localhost:8080/",
     "height": 35
    },
    "colab_type": "code",
    "executionInfo": {
     "elapsed": 702,
     "status": "ok",
     "timestamp": 1598752976543,
     "user": {
      "displayName": "Stemplicity",
      "photoUrl": "https://lh3.googleusercontent.com/a-/AOh14Gj2vCFt-bD5mPBhUWX0QA6xiBgoXQXtwUm2jgjaCg=s64",
      "userId": "10668071569687886186"
     },
     "user_tz": 240
    },
    "id": "uOh9NTR5rKAO",
    "outputId": "fafa7558-a41f-4311-f8dc-f04246f28e29"
   },
   "outputs": [
    {
     "name": "stdout",
     "output_type": "stream",
     "text": [
      "Beta for AAPL stock is = 1.1128924148678094 and alpha is = 0.052812084694402545\n"
     ]
    }
   ],
   "source": [
    "# Beta represents the slope of the line regression line (market return vs. stock return). \n",
    "# It is a measure of the volatility or systematic risk of a security or portfolio compared to the entire market (S&P500) \n",
    "# It is used in the CAPM and describes the relationship between systematic risk and expected return for assets \n",
    "\n",
    "beta, alpha = np.polyfit(stocks_daily_return['sp500'], stocks_daily_return['AAPL'], 1)\n",
    "print('Beta for {} stock is = {} and alpha is = {}'.format('AAPL', beta, alpha))  "
   ]
  },
  {
   "cell_type": "code",
   "execution_count": 11,
   "metadata": {
    "colab": {
     "base_uri": "https://localhost:8080/",
     "height": 297
    },
    "colab_type": "code",
    "executionInfo": {
     "elapsed": 621,
     "status": "ok",
     "timestamp": 1598752977496,
     "user": {
      "displayName": "Stemplicity",
      "photoUrl": "https://lh3.googleusercontent.com/a-/AOh14Gj2vCFt-bD5mPBhUWX0QA6xiBgoXQXtwUm2jgjaCg=s64",
      "userId": "10668071569687886186"
     },
     "user_tz": 240
    },
    "id": "kLfk0fJ8sKUk",
    "outputId": "32c262d1-7cc3-4121-e756-25c4346ac2d2"
   },
   "outputs": [
    {
     "data": {
      "text/plain": [
       "[<matplotlib.lines.Line2D at 0x5757b50>]"
      ]
     },
     "execution_count": 11,
     "metadata": {},
     "output_type": "execute_result"
    },
    {
     "data": {
      "image/png": "[encoded data removed]",
      "text/plain": [
       "<Figure size 432x288 with 1 Axes>"
      ]
     },
     "metadata": {
      "needs_background": "light"
     },
     "output_type": "display_data"
    }
   ],
   "source": [
    "stocks_daily_return.plot(kind = 'scatter', x = 'sp500', y = 'AAPL')\n",
    "\n",
    "# Straight line equation with alpha and beta parameters \n",
    "\n",
    "plt.plot(stocks_daily_return['sp500'], beta * stocks_daily_return['sp500'] + alpha, '-', color = 'r')\n"
   ]
  },
  {
   "cell_type": "markdown",
   "metadata": {
    "colab_type": "text",
    "id": "R7ojW2776nuY"
   },
   "source": [
    "## APPLYING THE CAPM FORMULA TO AN INDIVIDUAL STOCK "
   ]
  },
  {
   "cell_type": "code",
   "execution_count": 12,
   "metadata": {
    "colab": {
     "base_uri": "https://localhost:8080/",
     "height": 35
    },
    "colab_type": "code",
    "executionInfo": {
     "elapsed": 520,
     "status": "ok",
     "timestamp": 1598752981603,
     "user": {
      "displayName": "Stemplicity",
      "photoUrl": "https://lh3.googleusercontent.com/a-/AOh14Gj2vCFt-bD5mPBhUWX0QA6xiBgoXQXtwUm2jgjaCg=s64",
      "userId": "10668071569687886186"
     },
     "user_tz": 240
    },
    "id": "6MZZaoXP6vvG",
    "outputId": "bf13d64e-7d48-4464-ec8f-f47359f14268"
   },
   "outputs": [
    {
     "data": {
      "text/plain": [
       "1.1128924148678094"
      ]
     },
     "execution_count": 12,
     "metadata": {},
     "output_type": "execute_result"
    }
   ],
   "source": [
    "beta"
   ]
  },
  {
   "cell_type": "code",
   "execution_count": 13,
   "metadata": {
    "colab": {
     "base_uri": "https://localhost:8080/",
     "height": 35
    },
    "colab_type": "code",
    "executionInfo": {
     "elapsed": 1076,
     "status": "ok",
     "timestamp": 1598752984079,
     "user": {
      "displayName": "Stemplicity",
      "photoUrl": "https://lh3.googleusercontent.com/a-/AOh14Gj2vCFt-bD5mPBhUWX0QA6xiBgoXQXtwUm2jgjaCg=s64",
      "userId": "10668071569687886186"
     },
     "user_tz": 240
    },
    "id": "sH1DdoOC1Xw9",
    "outputId": "1ac843c5-2e2a-4edd-f0ee-a0639f56b35b"
   },
   "outputs": [
    {
     "data": {
      "text/plain": [
       "0.049316006600389206"
      ]
     },
     "execution_count": 13,
     "metadata": {},
     "output_type": "execute_result"
    }
   ],
   "source": [
    "# average daily rate of return for S&P500\n",
    "stocks_daily_return['sp500'].mean()"
   ]
  },
  {
   "cell_type": "code",
   "execution_count": 14,
   "metadata": {
    "colab": {
     "base_uri": "https://localhost:8080/",
     "height": 35
    },
    "colab_type": "code",
    "executionInfo": {
     "elapsed": 839,
     "status": "ok",
     "timestamp": 1598752985362,
     "user": {
      "displayName": "Stemplicity",
      "photoUrl": "https://lh3.googleusercontent.com/a-/AOh14Gj2vCFt-bD5mPBhUWX0QA6xiBgoXQXtwUm2jgjaCg=s64",
      "userId": "10668071569687886186"
     },
     "user_tz": 240
    },
    "id": "0rVe7WxzAdRn",
    "outputId": "55630959-36c5-4ee6-9750-dad310c77e17"
   },
   "outputs": [
    {
     "data": {
      "text/plain": [
       "12.42763366329808"
      ]
     },
     "execution_count": 14,
     "metadata": {},
     "output_type": "execute_result"
    }
   ],
   "source": [
    "# annualized rate of return for S&P500 \n",
    "# Note that out of 365 days/year, stock exchanges are closed for 104 days during weekend days (Saturday and Sunday) \n",
    "rm = stocks_daily_return['sp500'].mean() * 252\n",
    "rm"
   ]
  },
  {
   "cell_type": "code",
   "execution_count": 15,
   "metadata": {
    "colab": {},
    "colab_type": "code",
    "id": "TG8awVE5zRL7"
   },
   "outputs": [],
   "source": [
    "# Assume risk free rate is zero\n",
    "rf = 0 \n",
    "\n",
    "# Calculating the return for any security (APPL) using CAPM  \n",
    "ER_AAPL = rf + ( beta * (rm-rf) ) "
   ]
  },
  {
   "cell_type": "code",
   "execution_count": 16,
   "metadata": {
    "colab": {
     "base_uri": "https://localhost:8080/",
     "height": 35
    },
    "colab_type": "code",
    "executionInfo": {
     "elapsed": 1135,
     "status": "ok",
     "timestamp": 1598752986914,
     "user": {
      "displayName": "Stemplicity",
      "photoUrl": "https://lh3.googleusercontent.com/a-/AOh14Gj2vCFt-bD5mPBhUWX0QA6xiBgoXQXtwUm2jgjaCg=s64",
      "userId": "10668071569687886186"
     },
     "user_tz": 240
    },
    "id": "TxiWnQ7s1tlZ",
    "outputId": "156f9141-d654-4684-9743-51cbf7d988b2"
   },
   "outputs": [
    {
     "data": {
      "text/plain": [
       "13.830619238640281"
      ]
     },
     "execution_count": 16,
     "metadata": {},
     "output_type": "execute_result"
    }
   ],
   "source": [
    "ER_AAPL"
   ]
  },
  {
   "cell_type": "markdown",
   "metadata": {
    "colab_type": "text",
    "id": "l0dj0g3IUcau"
   },
   "source": [
    "## CALCULATING BETA FOR ALL STOCKS"
   ]
  },
  {
   "cell_type": "code",
   "execution_count": 17,
   "metadata": {
    "colab": {
     "base_uri": "https://localhost:8080/",
     "height": 1000
    },
    "colab_type": "code",
    "executionInfo": {
     "elapsed": 1890,
     "status": "ok",
     "timestamp": 1598753303680,
     "user": {
      "displayName": "Stemplicity",
      "photoUrl": "https://lh3.googleusercontent.com/a-/AOh14Gj2vCFt-bD5mPBhUWX0QA6xiBgoXQXtwUm2jgjaCg=s64",
      "userId": "10668071569687886186"
     },
     "user_tz": 240
    },
    "id": "Qn_95BaLUVMv",
    "outputId": "c57c6278-46fb-400f-c0c0-c3a87be50dad"
   },
   "outputs": [
    {
     "data": {
      "image/png": "[encoded data removed]",
      "text/plain": [
       "<Figure size 432x288 with 1 Axes>"
      ]
     },
     "metadata": {
      "needs_background": "light"
     },
     "output_type": "display_data"
    },
    {
     "data": {
      "image/png": "[encoded data removed]",
      "text/plain": [
       "<Figure size 432x288 with 1 Axes>"
      ]
     },
     "metadata": {
      "needs_background": "light"
     },
     "output_type": "display_data"
    },
    {
     "data": {
      "image/png": "[encoded data removed]",
      "text/plain": [
       "<Figure size 432x288 with 1 Axes>"
      ]
     },
     "metadata": {
      "needs_background": "light"
     },
     "output_type": "display_data"
    },
    {
     "data": {
      "image/png": "[encoded data removed]",
      "text/plain": [
       "<Figure size 432x288 with 1 Axes>"
      ]
     },
     "metadata": {
      "needs_background": "light"
     },
     "output_type": "display_data"
    },
    {
     "data": {
      "image/png": "[encoded data removed]",
      "text/plain": [
       "<Figure size 432x288 with 1 Axes>"
      ]
     },
     "metadata": {
      "needs_background": "light"
     },
     "output_type": "display_data"
    },
    {
     "data": {
      "image/png": "[encoded data removed]",
      "text/plain": [
       "<Figure size 432x288 with 1 Axes>"
      ]
     },
     "metadata": {
      "needs_background": "light"
     },
     "output_type": "display_data"
    },
    {
     "data": {
      "image/png": "[encoded data removed]",
      "text/plain": [
       "<Figure size 432x288 with 1 Axes>"
      ]
     },
     "metadata": {
      "needs_background": "light"
     },
     "output_type": "display_data"
    },
    {
     "data": {
      "image/png": "[encoded data removed]",
      "text/plain": [
       "<Figure size 432x288 with 1 Axes>"
      ]
     },
     "metadata": {
      "needs_background": "light"
     },
     "output_type": "display_data"
    }
   ],
   "source": [
    "# create a placeholder for all betas and alphas (empty dictionaries)\n",
    "beta = {}\n",
    "alpha = {}\n",
    "\n",
    "# Loop on every stock daily return\n",
    "for i in stocks_daily_return.columns:\n",
    "\n",
    "  # Ignoring the date and S&P500 Columns \n",
    "  if i != 'Date' and i != 'sp500':\n",
    "    # plot a scatter plot between each individual stock and the S&P500 (Market)\n",
    "    stocks_daily_return.plot(kind = 'scatter', x = 'sp500', y = i)\n",
    "    \n",
    "    # Fit a polynomial between each stock and the S&P500 \n",
    "    b, a = np.polyfit(stocks_daily_return['sp500'], stocks_daily_return[i], 1)\n",
    "    \n",
    "    plt.plot(stocks_daily_return['sp500'], b * stocks_daily_return['sp500'] + a, '-', color = 'r')\n",
    "    \n",
    "    beta[i] = b\n",
    "    \n",
    "    alpha[i] = a\n",
    "    \n",
    "    plt.show()"
   ]
  },
  {
   "cell_type": "code",
   "execution_count": 18,
   "metadata": {
    "colab": {
     "base_uri": "https://localhost:8080/",
     "height": 156
    },
    "colab_type": "code",
    "executionInfo": {
     "elapsed": 1019,
     "status": "ok",
     "timestamp": 1598753314278,
     "user": {
      "displayName": "Stemplicity",
      "photoUrl": "https://lh3.googleusercontent.com/a-/AOh14Gj2vCFt-bD5mPBhUWX0QA6xiBgoXQXtwUm2jgjaCg=s64",
      "userId": "10668071569687886186"
     },
     "user_tz": 240
    },
    "id": "AAjtSbnWUkKy",
    "outputId": "27b1ba44-9e9d-4988-89a0-804298ec5a49"
   },
   "outputs": [
    {
     "data": {
      "text/plain": [
       "{'AAPL': 1.1128924148678094,\n",
       " 'BA': 1.3828672010892782,\n",
       " 'T': 0.7446293454747842,\n",
       " 'MGM': 1.6535677065180108,\n",
       " 'AMZN': 0.9917345712576846,\n",
       " 'IBM': 0.9604149148095248,\n",
       " 'TSLA': 1.2686150101095912,\n",
       " 'GOOG': 1.034881768742856}"
      ]
     },
     "execution_count": 18,
     "metadata": {},
     "output_type": "execute_result"
    }
   ],
   "source": [
    "# Beta for every stock \n",
    "beta"
   ]
  },
  {
   "cell_type": "code",
   "execution_count": null,
   "metadata": {
    "colab": {
     "base_uri": "https://localhost:8080/",
     "height": 156
    },
    "colab_type": "code",
    "executionInfo": {
     "elapsed": 673,
     "status": "ok",
     "timestamp": 1598753317007,
     "user": {
      "displayName": "Stemplicity",
      "photoUrl": "https://lh3.googleusercontent.com/a-/AOh14Gj2vCFt-bD5mPBhUWX0QA6xiBgoXQXtwUm2jgjaCg=s64",
      "userId": "10668071569687886186"
     },
     "user_tz": 240
    },
    "id": "nBySQlXUUkMo",
    "outputId": "48c60189-0c9a-457b-b1a4-fc1821788fd4"
   },
   "outputs": [
    {
     "data": {
      "text/plain": [
       "{'AAPL': 0.052812084694402864,\n",
       " 'AMZN': 0.1022139641776522,\n",
       " 'BA': -0.0022906983297531543,\n",
       " 'GOOG': 0.03335558721467005,\n",
       " 'IBM': -0.053454941504451084,\n",
       " 'MGM': -0.016885305520478674,\n",
       " 'T': -0.028563430198461616,\n",
       " 'TSLA': 0.1758349216516583}"
      ]
     },
     "execution_count": 126,
     "metadata": {
      "tags": []
     },
     "output_type": "execute_result"
    }
   ],
   "source": [
    "# Alpha for each of the stocks\n",
    "# It describes the strategy's ability to beat the market (S&P500)\n",
    "# It indicates the “excess return” or “abnormal rate of return,” \n",
    "\n",
    "alpha"
   ]
  },
  {
   "cell_type": "markdown",
   "metadata": {
    "colab_type": "text",
    "id": "-zduPVSdJAzj"
   },
   "source": [
    "## APPLYING CAPM FORMULA TO CALCULATE THE RETURN FOR THE PORTFOLIO"
   ]
  },
  {
   "cell_type": "code",
   "execution_count": 19,
   "metadata": {
    "colab": {
     "base_uri": "https://localhost:8080/",
     "height": 35
    },
    "colab_type": "code",
    "executionInfo": {
     "elapsed": 1360,
     "status": "ok",
     "timestamp": 1598754914080,
     "user": {
      "displayName": "Stemplicity",
      "photoUrl": "https://lh3.googleusercontent.com/a-/AOh14Gj2vCFt-bD5mPBhUWX0QA6xiBgoXQXtwUm2jgjaCg=s64",
      "userId": "10668071569687886186"
     },
     "user_tz": 240
    },
    "id": "CLNoqavJUnnd",
    "outputId": "cb41aea5-9206-4bfe-feb4-b296e0b9fd9f"
   },
   "outputs": [
    {
     "data": {
      "text/plain": [
       "['AAPL', 'BA', 'T', 'MGM', 'AMZN', 'IBM', 'TSLA', 'GOOG']"
      ]
     },
     "execution_count": 19,
     "metadata": {},
     "output_type": "execute_result"
    }
   ],
   "source": [
    "# Obtaining a list of all stock names\n",
    "keys = list(beta.keys())\n",
    "keys"
   ]
  },
  {
   "cell_type": "code",
   "execution_count": null,
   "metadata": {
    "colab": {
     "base_uri": "https://localhost:8080/",
     "height": 35
    },
    "colab_type": "code",
    "executionInfo": {
     "elapsed": 1209,
     "status": "ok",
     "timestamp": 1598754915892,
     "user": {
      "displayName": "Stemplicity",
      "photoUrl": "https://lh3.googleusercontent.com/a-/AOh14Gj2vCFt-bD5mPBhUWX0QA6xiBgoXQXtwUm2jgjaCg=s64",
      "userId": "10668071569687886186"
     },
     "user_tz": 240
    },
    "id": "HaUIVAFnKPQt",
    "outputId": "c45dc49d-5514-476c-d3c9-0e19e9f30c87"
   },
   "outputs": [
    {
     "data": {
      "text/plain": [
       "12.42763366329808"
      ]
     },
     "execution_count": 152,
     "metadata": {
      "tags": []
     },
     "output_type": "execute_result"
    }
   ],
   "source": [
    "# Define the expected return dictionary\n",
    "ER = {}\n",
    "\n",
    "rf = 0 # assume risk free rate is zero in this case\n",
    "rm = stocks_daily_return['sp500'].mean() * 252 # this is the expected return of the market \n",
    "rm"
   ]
  },
  {
   "cell_type": "code",
   "execution_count": null,
   "metadata": {
    "colab": {},
    "colab_type": "code",
    "id": "joheLJL0LXi0"
   },
   "outputs": [],
   "source": [
    "for i in keys:\n",
    "  # Calculating the return for every security using CAPM  \n",
    "  ER[i] = rf + ( beta[i] * (rm-rf) ) "
   ]
  },
  {
   "cell_type": "code",
   "execution_count": null,
   "metadata": {
    "colab": {
     "base_uri": "https://localhost:8080/",
     "height": 156
    },
    "colab_type": "code",
    "executionInfo": {
     "elapsed": 1046,
     "status": "ok",
     "timestamp": 1598754955781,
     "user": {
      "displayName": "Stemplicity",
      "photoUrl": "https://lh3.googleusercontent.com/a-/AOh14Gj2vCFt-bD5mPBhUWX0QA6xiBgoXQXtwUm2jgjaCg=s64",
      "userId": "10668071569687886186"
     },
     "user_tz": 240
    },
    "id": "CRCHlev2UnlJ",
    "outputId": "39a29949-2ec7-45f2-ab28-3e1ce79532d2"
   },
   "outputs": [
    {
     "name": "stdout",
     "output_type": "stream",
     "text": [
      "Expected Return Based on CAPM for AAPL is 13.830619238640287%\n",
      "Expected Return Based on CAPM for BA is 17.1857669801279%\n",
      "Expected Return Based on CAPM for T is 9.253980720502046%\n",
      "Expected Return Based on CAPM for MGM is 20.54993369406583%\n",
      "Expected Return Based on CAPM for AMZN is 12.324913942818489%\n",
      "Expected Return Based on CAPM for IBM is 11.935684726020403%\n",
      "Expected Return Based on CAPM for TSLA is 15.765882605403183%\n",
      "Expected Return Based on CAPM for GOOG is 12.861131506762176%\n"
     ]
    }
   ],
   "source": [
    "for i in keys:\n",
    "  print('Expected Return Based on CAPM for {} is {}%'.format(i, ER[i]))"
   ]
  },
  {
   "cell_type": "code",
   "execution_count": null,
   "metadata": {
    "colab": {
     "base_uri": "https://localhost:8080/",
     "height": 35
    },
    "colab_type": "code",
    "executionInfo": {
     "elapsed": 547,
     "status": "ok",
     "timestamp": 1598755137289,
     "user": {
      "displayName": "Stemplicity",
      "photoUrl": "https://lh3.googleusercontent.com/a-/AOh14Gj2vCFt-bD5mPBhUWX0QA6xiBgoXQXtwUm2jgjaCg=s64",
      "userId": "10668071569687886186"
     },
     "user_tz": 240
    },
    "id": "4-wQS2MNM_lG",
    "outputId": "ff10fba6-9779-4404-d81f-af72b5a35976"
   },
   "outputs": [
    {
     "data": {
      "text/plain": [
       "array([0.125, 0.125, 0.125, 0.125, 0.125, 0.125, 0.125, 0.125])"
      ]
     },
     "execution_count": 170,
     "metadata": {
      "tags": []
     },
     "output_type": "execute_result"
    }
   ],
   "source": [
    "# Assuming equal weights in the portfolio\n",
    "portfolio_weights = 1/8 * np.ones(8) \n",
    "portfolio_weights"
   ]
  },
  {
   "cell_type": "code",
   "execution_count": null,
   "metadata": {
    "colab": {
     "base_uri": "https://localhost:8080/",
     "height": 35
    },
    "colab_type": "code",
    "executionInfo": {
     "elapsed": 583,
     "status": "ok",
     "timestamp": 1598755174244,
     "user": {
      "displayName": "Stemplicity",
      "photoUrl": "https://lh3.googleusercontent.com/a-/AOh14Gj2vCFt-bD5mPBhUWX0QA6xiBgoXQXtwUm2jgjaCg=s64",
      "userId": "10668071569687886186"
     },
     "user_tz": 240
    },
    "id": "FaJnUuz9NRCD",
    "outputId": "298195e2-2d54-45c2-b8aa-e6efda5f5320"
   },
   "outputs": [
    {
     "data": {
      "text/plain": [
       "14.213489176792537"
      ]
     },
     "execution_count": 174,
     "metadata": {
      "tags": []
     },
     "output_type": "execute_result"
    }
   ],
   "source": [
    "# Calculating portfolio return \n",
    "ER_portfolio = sum(list(ER.values()) * portfolio_weights)\n",
    "ER_portfolio"
   ]
  },
  {
   "cell_type": "code",
   "execution_count": null,
   "metadata": {
    "colab": {
     "base_uri": "https://localhost:8080/",
     "height": 52
    },
    "colab_type": "code",
    "executionInfo": {
     "elapsed": 760,
     "status": "ok",
     "timestamp": 1598755256788,
     "user": {
      "displayName": "Stemplicity",
      "photoUrl": "https://lh3.googleusercontent.com/a-/AOh14Gj2vCFt-bD5mPBhUWX0QA6xiBgoXQXtwUm2jgjaCg=s64",
      "userId": "10668071569687886186"
     },
     "user_tz": 240
    },
    "id": "tZYItWv1Utb8",
    "outputId": "4f139c12-9089-40b8-dc7f-bc29e6f958c3"
   },
   "outputs": [
    {
     "name": "stdout",
     "output_type": "stream",
     "text": [
      "Expected Return Based on CAPM for the portfolio is 14.213489176792537%\n",
      "\n"
     ]
    }
   ],
   "source": [
    "print('Expected Return Based on CAPM for the portfolio is {}%\\n'.format(ER_portfolio))"
   ]
  }
 ],
 "metadata": {
  "colab": {
   "authorship_tag": "ABX9TyMP9FjnjNNO2OTEKsSGHzuD",
   "collapsed_sections": [],
   "name": "Finance 101 - Capital Asset Pricing Model (CAPM) - Solution.ipynb",
   "provenance": []
  },
  "kernelspec": {
   "display_name": "Python 3",
   "language": "python",
   "name": "python3"
  },
  "language_info": {
   "codemirror_mode": {
    "name": "ipython",
    "version": 3
   },
   "file_extension": ".py",
   "mimetype": "text/x-python",
   "name": "python",
   "nbconvert_exporter": "python",
   "pygments_lexer": "ipython3",
   "version": "3.8.5"
  }
 },
 "nbformat": 4,
 "nbformat_minor": 1
}
